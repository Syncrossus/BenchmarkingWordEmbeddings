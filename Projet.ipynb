{
 "cells": [
  {
   "cell_type": "code",
   "execution_count": null,
   "metadata": {
    "collapsed": true
   },
   "outputs": [],
   "source": [
    "import numpy as np\n",
    "from gensim.models import word2vec"
   ]
  },
  {
   "cell_type": "code",
   "execution_count": null,
   "metadata": {
    "collapsed": true
   },
   "outputs": [],
   "source": [
    "sentences = word2vec.Text8Corpus(\"~/Documents/ScienceDesDonnees/word2vec/text8\")\n",
    "model = word2vec.Word2Vec(sentences, size=300, window=12, min_count=25, workers=3, sg=1, negative=12)"
   ]
  },
  {
   "cell_type": "code",
   "execution_count": null,
   "metadata": {
    "collapsed": true
   },
   "outputs": [],
   "source": [
    "def levenshtein(l1, l2):\n",
    "    m = np.zeros(shape=(len(l1),len(l2)))\n",
    "    m[0,:] = range(0,len(l2))\n",
    "    m[:,0] = range(0,len(l1))\n",
    "    for i in range(1,len(l1)):\n",
    "        for j in range(1,len(l2)):\n",
    "            cost = 0\n",
    "            if l1[i]!=l2[j]:\n",
    "                cost = 1\n",
    "            m[i, j] = min(m[i-1, j] + cost, m[i, j-1] + cost, m[i-1, j-1] + cost)\n",
    "    return m[len(l1)-1, len(l2)-1]"
   ]
  },
  {
   "cell_type": "code",
   "execution_count": 1,
   "metadata": {},
   "outputs": [],
   "source": [
    "import csv\n",
    "import numpy as np\n",
    "from constants import *\n",
    "\n",
    "matrices = []\n",
    "CSVLIST = [WORDSIM, MC_CSV, MTURK, REL122, RG]\n",
    "\n",
    "with open(WORDSIM[0], 'rt')as fichier:\n",
    "    reader = csv.reader(fichier, delimiter=WORDSIM[1])\n",
    "    # Concaténation de trois colonnes en un tuple de mots et un score\n",
    "    np.matrix([[(i[0], i[1]), float(i[2])] for i in reader])\n",
    "\n",
    "with open(MC_CSV[0], 'rt')as fichier:\n",
    "    reader = csv.reader(fichier, delimiter=MC_CSV[1])\n",
    "    # Concaténation de trois colonnes en un tuple de mots et un score\n",
    "    np.matrix([[(i[0], i[1]), float(i[2])] for i in reader if any(i)])\n",
    "    \n",
    "with open(MTURK[0], 'rt')as fichier:\n",
    "    reader = csv.reader(fichier, delimiter=MTURK[1])\n",
    "    # Concaténation de trois colonnes en un tuple de mots et un score\n",
    "    np.matrix([[(i[0], i[1]), float(i[2])] for i in reader])\n",
    "    \n",
    "with open(REL122[0], 'rt')as fichier:\n",
    "    reader = csv.reader(fichier, delimiter=REL122[1])\n",
    "    # Concaténation de trois colonnes en un tuple de mots et un score\n",
    "    np.matrix([[(i[1], i[2]), float(i[0])] for i in reader])\n",
    "    \n",
    "with open(RG[0], 'rt')as fichier:\n",
    "    reader = csv.reader(fichier, delimiter=RG[1])\n",
    "    # Concaténation de trois colonnes en un tuple de mots et un score\n",
    "    np.matrix([[(i[0], i[1]), float(i[2])] for i in reader if any(i)])"
   ]
  },
  {
   "cell_type": "code",
   "execution_count": null,
   "metadata": {},
   "outputs": [],
   "source": []
  },
  {
   "cell_type": "code",
   "execution_count": null,
   "metadata": {
    "collapsed": true
   },
   "outputs": [],
   "source": []
  }
 ],
 "metadata": {
  "kernelspec": {
   "display_name": "Python 3",
   "language": "python",
   "name": "python3"
  },
  "language_info": {
   "codemirror_mode": {
    "name": "ipython",
    "version": 3
   },
   "file_extension": ".py",
   "mimetype": "text/x-python",
   "name": "python",
   "nbconvert_exporter": "python",
   "pygments_lexer": "ipython3",
   "version": "3.5.3"
  }
 },
 "nbformat": 4,
 "nbformat_minor": 2
}
